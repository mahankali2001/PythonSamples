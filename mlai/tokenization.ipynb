{
 "cells": [
  {
   "cell_type": "code",
   "execution_count": null,
   "metadata": {},
   "outputs": [
    {
     "name": "stderr",
     "output_type": "stream",
     "text": [
      "[nltk_data] Downloading package punkt to\n",
      "[nltk_data]     /Users/vmahankali/nltk_data...\n",
      "[nltk_data]   Package punkt is already up-to-date!\n",
      "[nltk_data] Downloading package punkt_tab to\n",
      "[nltk_data]     /Users/vmahankali/nltk_data...\n",
      "[nltk_data]   Package punkt_tab is already up-to-date!\n"
     ]
    }
   ],
   "source": [
    "## Tokenization\n",
    "## Corpus -> Documents or Sentence -> Paragraphs\n",
    "from nltk.tokenize import sent_tokenize, word_tokenize\n",
    "import nltk\n",
    "import os\n",
    "\n",
    "# Verify and create NLTK data directory if it doesn't exist\n",
    "nltk_data_dir = '/Users/vmahankali/nltk_data'\n",
    "if not os.path.exists(nltk_data_dir):\n",
    "    os.makedirs(nltk_data_dir)\n",
    "\n",
    "# Set the NLTK data directory\n",
    "nltk.data.path.append(nltk_data_dir)\n",
    "\n",
    "# Download the Punkt tokenizer models\n",
    "nltk.download('punkt', download_dir=nltk_data_dir)\n",
    "nltk.download('punkt_tab', download_dir=nltk_data_dir)\n",
    "\n",
    "# # Debugging: Check NLTK data path\n",
    "# print(\"NLTK data path:\", nltk.data.path)\n",
    "\n",
    "# # Debugging: Check if Punkt tokenizer models are present\n",
    "# punkt_path = os.path.join(nltk_data_dir, 'tokenizers', 'punkt')\n",
    "# print(\"Punkt tokenizer path:\", punkt_path)\n",
    "# print(\"Punkt tokenizer files:\", os.listdir(punkt_path) if os.path.exists(punkt_path) else \"Not found\")\n",
    "\n",
    "corpus=\"\"\"Hello Welcome, to Vijay NLP Tutorials. \n",
    "Please do watch the entire session, to become expert in NLP.\"\"\"\n",
    "\n",
    "documents=sent_tokenize(corpus, language=\"english\")\n",
    "print(documents)\n",
    "# type (documents)"
   ]
  },
  {
   "cell_type": "code",
   "execution_count": null,
   "metadata": {},
   "outputs": [],
   "source": [
    "\n"
   ]
  }
 ],
 "metadata": {
  "kernelspec": {
   "display_name": ".venv",
   "language": "python",
   "name": "python3"
  },
  "language_info": {
   "codemirror_mode": {
    "name": "ipython",
    "version": 3
   },
   "file_extension": ".py",
   "mimetype": "text/x-python",
   "name": "python",
   "nbconvert_exporter": "python",
   "pygments_lexer": "ipython3",
   "version": "3.13.1"
  }
 },
 "nbformat": 4,
 "nbformat_minor": 2
}
